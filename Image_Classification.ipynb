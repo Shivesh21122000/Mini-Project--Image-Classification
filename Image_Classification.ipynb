{
  "nbformat": 4,
  "nbformat_minor": 0,
  "metadata": {
    "colab": {
      "name": "Image Classification.ipynb",
      "provenance": [],
      "collapsed_sections": [],
      "authorship_tag": "ABX9TyOjDRwUYXecNJoXcm6xRGXe",
      "include_colab_link": true
    },
    "kernelspec": {
      "name": "python3",
      "display_name": "Python 3"
    }
  },
  "cells": [
    {
      "cell_type": "markdown",
      "metadata": {
        "id": "view-in-github",
        "colab_type": "text"
      },
      "source": [
        "<a href=\"https://colab.research.google.com/github/Shivesh21122000/Mini-Project--Image-Classification/blob/main/Image_Classification.ipynb\" target=\"_parent\"><img src=\"https://colab.research.google.com/assets/colab-badge.svg\" alt=\"Open In Colab\"/></a>"
      ]
    },
    {
      "cell_type": "markdown",
      "metadata": {
        "id": "rsc1xJJz3sq6"
      },
      "source": [
        "Image Classification"
      ]
    },
    {
      "cell_type": "code",
      "metadata": {
        "colab": {
          "base_uri": "https://localhost:8080/"
        },
        "id": "4dnQg5YOQVOI",
        "outputId": "b7f20c6c-ae6f-4f42-f2e6-16834f52b95d"
      },
      "source": [
        "!pip install ipython-autotime\n",
        "%load_ext autotime"
      ],
      "execution_count": 7,
      "outputs": [
        {
          "output_type": "stream",
          "text": [
            "Collecting ipython-autotime\n",
            "  Downloading https://files.pythonhosted.org/packages/3f/58/a4a65efcce5c81a67b6893ade862736de355a3a718af5533d30c991831ce/ipython_autotime-0.2.0-py2.py3-none-any.whl\n",
            "Requirement already satisfied: ipython in /usr/local/lib/python3.6/dist-packages (from ipython-autotime) (5.5.0)\n",
            "Requirement already satisfied: simplegeneric>0.8 in /usr/local/lib/python3.6/dist-packages (from ipython->ipython-autotime) (0.8.1)\n",
            "Requirement already satisfied: traitlets>=4.2 in /usr/local/lib/python3.6/dist-packages (from ipython->ipython-autotime) (4.3.3)\n",
            "Requirement already satisfied: pexpect; sys_platform != \"win32\" in /usr/local/lib/python3.6/dist-packages (from ipython->ipython-autotime) (4.8.0)\n",
            "Requirement already satisfied: pickleshare in /usr/local/lib/python3.6/dist-packages (from ipython->ipython-autotime) (0.7.5)\n",
            "Requirement already satisfied: pygments in /usr/local/lib/python3.6/dist-packages (from ipython->ipython-autotime) (2.6.1)\n",
            "Requirement already satisfied: prompt-toolkit<2.0.0,>=1.0.4 in /usr/local/lib/python3.6/dist-packages (from ipython->ipython-autotime) (1.0.18)\n",
            "Requirement already satisfied: decorator in /usr/local/lib/python3.6/dist-packages (from ipython->ipython-autotime) (4.4.2)\n",
            "Requirement already satisfied: setuptools>=18.5 in /usr/local/lib/python3.6/dist-packages (from ipython->ipython-autotime) (50.3.2)\n",
            "Requirement already satisfied: six in /usr/local/lib/python3.6/dist-packages (from traitlets>=4.2->ipython->ipython-autotime) (1.15.0)\n",
            "Requirement already satisfied: ipython-genutils in /usr/local/lib/python3.6/dist-packages (from traitlets>=4.2->ipython->ipython-autotime) (0.2.0)\n",
            "Requirement already satisfied: ptyprocess>=0.5 in /usr/local/lib/python3.6/dist-packages (from pexpect; sys_platform != \"win32\"->ipython->ipython-autotime) (0.6.0)\n",
            "Requirement already satisfied: wcwidth in /usr/local/lib/python3.6/dist-packages (from prompt-toolkit<2.0.0,>=1.0.4->ipython->ipython-autotime) (0.2.5)\n",
            "Installing collected packages: ipython-autotime\n",
            "Successfully installed ipython-autotime-0.2.0\n",
            "time: 182 µs\n"
          ],
          "name": "stdout"
        }
      ]
    },
    {
      "cell_type": "code",
      "metadata": {
        "id": "bN_cIR14c1Ol"
      },
      "source": [
        "#First we will start with taking images from bing image downloader"
      ],
      "execution_count": null,
      "outputs": []
    },
    {
      "cell_type": "code",
      "metadata": {
        "colab": {
          "base_uri": "https://localhost:8080/"
        },
        "id": "6nMroXivLjJj",
        "outputId": "5fe0ff16-aeef-4d5f-8712-a7484425a7a9"
      },
      "source": [
        "!pip install bing_image_downloader"
      ],
      "execution_count": 24,
      "outputs": [
        {
          "output_type": "stream",
          "text": [
            "Requirement already satisfied: bing_image_downloader in /usr/local/lib/python3.6/dist-packages (1.0.4)\n"
          ],
          "name": "stdout"
        }
      ]
    },
    {
      "cell_type": "code",
      "metadata": {
        "id": "E_QBZwEILnSY"
      },
      "source": [
        "!mkdir images1"
      ],
      "execution_count": 25,
      "outputs": []
    },
    {
      "cell_type": "code",
      "metadata": {
        "colab": {
          "base_uri": "https://localhost:8080/"
        },
        "id": "RngiQNtqLuRv",
        "outputId": "4b5182ea-40f0-48d1-9149-c12e91729a2b"
      },
      "source": [
        "from bing_image_downloader import downloader\n",
        "downloader.download(\"sunflowers\", limit=30, output_dir='images1', adult_filter_off=True)"
      ],
      "execution_count": 26,
      "outputs": [
        {
          "output_type": "stream",
          "text": [
            "\n",
            "\n",
            "[!!]Indexing page: 1\n",
            "\n",
            "[%] Indexed 13 Images on Page 1.\n",
            "\n",
            "===============================================\n",
            "\n",
            "[%] Downloading Image #1 from http://cooldigitalphotography.com/wp-content/uploads/2013/11/Sunflower10.jpg\n",
            "[%] File Downloaded !\n",
            "\n",
            "[%] Downloading Image #2 from https://www.wildtattooart.com/wp-content/uploads/2017/03/sunflower-tattoos-19031712.jpg\n",
            "[%] File Downloaded !\n",
            "\n",
            "[%] Downloading Image #3 from http://www.hdwallpapers.in/download/pure_red_sunflowers-1920x1200.jpg\n",
            "[%] File Downloaded !\n",
            "\n",
            "[%] Downloading Image #4 from https://decor4all.com/wp-content/uploads/2015/07/sunflower-floral-arrangements-wedding-decorating-ideas-15.jpg\n",
            "[%] File Downloaded !\n",
            "\n",
            "[%] Downloading Image #5 from http://www.vangoghgallery.com/catalog/image/0286/Vase-with-Asters,-Salvia-and-Other-Flowers.jpg\n",
            "[%] File Downloaded !\n",
            "\n",
            "[%] Downloading Image #6 from https://i.pinimg.com/736x/55/35/3c/55353c1d817c6ffb1ee505ecbc9d3ccc--field-of-sunflowers-sunflower-fields.jpg\n",
            "[%] File Downloaded !\n",
            "\n",
            "[%] Downloading Image #7 from https://www.hdwallpapers.in/download/gorgeous_sunflowers-1440x900.jpg\n",
            "[%] File Downloaded !\n",
            "\n",
            "[%] Downloading Image #8 from https://i.pinimg.com/736x/34/02/db/3402dbf72ddc43e9d4965574930f94bb--canning-jars-canning-jar-lid-crafts.jpg\n",
            "[%] File Downloaded !\n",
            "\n",
            "[%] Downloading Image #9 from http://www.panedexpressions.com/images/GA-Sunflowers.jpg\n",
            "[%] File Downloaded !\n",
            "\n",
            "[%] Downloading Image #10 from https://i.pinimg.com/736x/ef/72/bf/ef72bfe0d7085b66724677056fb3ba25.jpg\n",
            "[%] File Downloaded !\n",
            "\n",
            "[%] Downloading Image #11 from https://www.hdwallpapers.in/download/sunflower_garden-1920x1080.jpg\n",
            "[%] File Downloaded !\n",
            "\n",
            "[%] Downloading Image #12 from https://decor4all.com/wp-content/uploads/2015/07/sunflower-floral-arrangements-wedding-decorating-ideas-28.jpg\n",
            "[%] File Downloaded !\n",
            "\n",
            "[%] Downloading Image #13 from http://www.vangoghgallery.com/catalog/image/0772/Marguerite-Gachet-at-the-Piano.jpg\n",
            "[%] File Downloaded !\n",
            "\n",
            "\n",
            "\n",
            "[!!]Indexing page: 2\n",
            "\n",
            "[%] Indexed 13 Images on Page 2.\n",
            "\n",
            "===============================================\n",
            "\n",
            "[%] Downloading Image #14 from http://cooldigitalphotography.com/wp-content/uploads/2013/11/Sunflower10.jpg\n",
            "[%] File Downloaded !\n",
            "\n",
            "[%] Downloading Image #15 from https://www.wildtattooart.com/wp-content/uploads/2017/03/sunflower-tattoos-19031712.jpg\n",
            "[%] File Downloaded !\n",
            "\n",
            "[%] Downloading Image #16 from http://www.hdwallpapers.in/download/pure_red_sunflowers-1920x1200.jpg\n",
            "[%] File Downloaded !\n",
            "\n",
            "[%] Downloading Image #17 from https://decor4all.com/wp-content/uploads/2015/07/sunflower-floral-arrangements-wedding-decorating-ideas-15.jpg\n",
            "[%] File Downloaded !\n",
            "\n",
            "[%] Downloading Image #18 from http://www.vangoghgallery.com/catalog/image/0286/Vase-with-Asters,-Salvia-and-Other-Flowers.jpg\n",
            "[%] File Downloaded !\n",
            "\n",
            "[%] Downloading Image #19 from https://i.pinimg.com/736x/55/35/3c/55353c1d817c6ffb1ee505ecbc9d3ccc--field-of-sunflowers-sunflower-fields.jpg\n",
            "[%] File Downloaded !\n",
            "\n",
            "[%] Downloading Image #20 from https://www.hdwallpapers.in/download/gorgeous_sunflowers-1440x900.jpg\n",
            "[%] File Downloaded !\n",
            "\n",
            "[%] Downloading Image #21 from https://i.pinimg.com/736x/34/02/db/3402dbf72ddc43e9d4965574930f94bb--canning-jars-canning-jar-lid-crafts.jpg\n",
            "[%] File Downloaded !\n",
            "\n",
            "[%] Downloading Image #22 from http://www.panedexpressions.com/images/GA-Sunflowers.jpg\n",
            "[%] File Downloaded !\n",
            "\n",
            "[%] Downloading Image #23 from https://i.pinimg.com/736x/ef/72/bf/ef72bfe0d7085b66724677056fb3ba25.jpg\n",
            "[%] File Downloaded !\n",
            "\n",
            "[%] Downloading Image #24 from https://www.hdwallpapers.in/download/sunflower_garden-1920x1080.jpg\n",
            "[%] File Downloaded !\n",
            "\n",
            "[%] Downloading Image #25 from https://decor4all.com/wp-content/uploads/2015/07/sunflower-floral-arrangements-wedding-decorating-ideas-28.jpg\n",
            "[%] File Downloaded !\n",
            "\n",
            "[%] Downloading Image #26 from http://www.vangoghgallery.com/catalog/image/0772/Marguerite-Gachet-at-the-Piano.jpg\n",
            "[%] File Downloaded !\n",
            "\n",
            "\n",
            "\n",
            "[!!]Indexing page: 3\n",
            "\n",
            "[%] Indexed 12 Images on Page 3.\n",
            "\n",
            "===============================================\n",
            "\n",
            "[%] Downloading Image #27 from http://www.hdwallpapers.in/download/pure_red_sunflowers-1920x1200.jpg\n",
            "[%] File Downloaded !\n",
            "\n",
            "[%] Downloading Image #28 from https://decor4all.com/wp-content/uploads/2015/07/sunflower-floral-arrangements-wedding-decorating-ideas-15.jpg\n",
            "[%] File Downloaded !\n",
            "\n",
            "[%] Downloading Image #29 from http://www.vangoghgallery.com/catalog/image/0772/Marguerite-Gachet-at-the-Piano.jpg\n",
            "[%] File Downloaded !\n",
            "\n",
            "[%] Downloading Image #30 from https://i.pinimg.com/736x/55/35/3c/55353c1d817c6ffb1ee505ecbc9d3ccc--field-of-sunflowers-sunflower-fields.jpg\n",
            "[%] File Downloaded !\n",
            "\n",
            "\n",
            "\n",
            "[%] Done. Downloaded 30 images.\n",
            "\n",
            "===============================================\n",
            "\n"
          ],
          "name": "stdout"
        }
      ]
    },
    {
      "cell_type": "code",
      "metadata": {
        "colab": {
          "base_uri": "https://localhost:8080/"
        },
        "id": "RxtXdb7zMIqN",
        "outputId": "087632f8-feba-48cb-f172-68fb3caa450c"
      },
      "source": [
        "from bing_image_downloader import downloader\n",
        "downloader.download(\"leather rugby balls\", limit=30, output_dir='images1', adult_filter_off=True)"
      ],
      "execution_count": 27,
      "outputs": [
        {
          "output_type": "stream",
          "text": [
            "\n",
            "\n",
            "[!!]Indexing page: 1\n",
            "\n",
            "[%] Indexed 13 Images on Page 1.\n",
            "\n",
            "===============================================\n",
            "\n",
            "[%] Downloading Image #1 from https://www.john-woodbridge.com/1032-large_default/1920s-rugby-ball.jpg\n",
            "[%] File Downloaded !\n",
            "\n",
            "[%] Downloading Image #2 from https://d2gg9evh47fn9z.cloudfront.net/800px_COLOURBOX19116091.jpg\n",
            "[%] File Downloaded !\n",
            "\n",
            "[%] Downloading Image #3 from https://static.vecteezy.com/system/resources/previews/000/076/275/original/vector-rugby-ball.jpg\n",
            "[%] File Downloaded !\n",
            "\n",
            "[%] Downloading Image #4 from https://img.bidorbuy.co.za/image/upload/user_images/720/318720_110206113942_IMG_6190.jpg\n",
            "[%] File Downloaded !\n",
            "\n",
            "[%] Downloading Image #5 from http://cdn.shopify.com/s/files/1/0068/0227/6407/products/2600_20RDAD19_2045082405_20Ball_20Replica_20Wales_20Sz5_1024x1024.jpg?v=1553529763\n",
            "[!] Issue getting: http://cdn.shopify.com/s/files/1/0068/0227/6407/products/2600_20RDAD19_2045082405_20Ball_20Replica_20Wales_20Sz5_1024x1024.jpg?v=1553529763\n",
            "[!] Error:: HTTP Error 404: Not Found\n",
            "[%] Downloading Image #5 from https://cdn.shopify.com/s/files/1/0020/1025/1324/products/Vintage_Wigan_Rugby_League_polo_1959_player_1024x.jpg?v=1553545537\n",
            "[%] File Downloaded !\n",
            "\n",
            "[%] Downloading Image #6 from https://cdn.shopify.com/s/files/1/0020/1025/1324/products/32p_black_1024x.png?v=1534865418\n",
            "[%] File Downloaded !\n",
            "\n",
            "[%] Downloading Image #7 from http://atlas-content-cdn.pixelsquid.com/stock-images/football-ball-QJGKVx9-600.jpg\n",
            "[%] File Downloaded !\n",
            "\n",
            "[%] Downloading Image #8 from https://cdn.shopify.com/s/files/1/0226/2169/products/KeyFob_2048x2048_V1_1024x1024.jpg?v=1555344296\n",
            "[%] File Downloaded !\n",
            "\n",
            "[%] Downloading Image #9 from https://image.jimcdn.com/app/cms/image/transf/dimension=1920x400:format=jpg/path/sd71f678b387a3bb2/image/i26be077a28158b64/version/1469027912/image.jpg\n",
            "[%] File Downloaded !\n",
            "\n",
            "[%] Downloading Image #10 from https://www.rugbyfactoryshop.co.uk/media/catalog/product/cache/13/image/9df78eab33525d08d6e5fb8d27136e95/g/i/gilbert-sidestep-revolution-black-red-rugby-boot_23.jpg\n",
            "[%] File Downloaded !\n",
            "\n",
            "[%] Downloading Image #11 from https://www.colourbox.com/preview/2507286-a-soccer-ball-and-tennis-balls-on-artificial-grass.jpg\n",
            "[%] File Downloaded !\n",
            "\n",
            "[%] Downloading Image #12 from https://cdn.sportrebel.pl/photos/wilson1_0x850.jpg\n",
            "[%] File Downloaded !\n",
            "\n",
            "\n",
            "\n",
            "[!!]Indexing page: 2\n",
            "\n",
            "[%] Indexed 13 Images on Page 2.\n",
            "\n",
            "===============================================\n",
            "\n",
            "[%] Downloading Image #13 from https://www.john-woodbridge.com/1032-large_default/1920s-rugby-ball.jpg\n",
            "[%] File Downloaded !\n",
            "\n",
            "[%] Downloading Image #14 from https://d2gg9evh47fn9z.cloudfront.net/800px_COLOURBOX19116091.jpg\n",
            "[%] File Downloaded !\n",
            "\n",
            "[%] Downloading Image #15 from https://static.vecteezy.com/system/resources/previews/000/076/275/original/vector-rugby-ball.jpg\n",
            "[%] File Downloaded !\n",
            "\n",
            "[%] Downloading Image #16 from https://img.bidorbuy.co.za/image/upload/user_images/720/318720_110206113942_IMG_6190.jpg\n",
            "[%] File Downloaded !\n",
            "\n",
            "[%] Downloading Image #17 from http://cdn.shopify.com/s/files/1/0068/0227/6407/products/2600_20RDAD19_2045082405_20Ball_20Replica_20Wales_20Sz5_1024x1024.jpg?v=1553529763\n",
            "[!] Issue getting: http://cdn.shopify.com/s/files/1/0068/0227/6407/products/2600_20RDAD19_2045082405_20Ball_20Replica_20Wales_20Sz5_1024x1024.jpg?v=1553529763\n",
            "[!] Error:: HTTP Error 404: Not Found\n",
            "[%] Downloading Image #17 from https://cdn.shopify.com/s/files/1/0020/1025/1324/products/Vintage_Wigan_Rugby_League_polo_1959_player_1024x.jpg?v=1553545537\n",
            "[%] File Downloaded !\n",
            "\n",
            "[%] Downloading Image #18 from https://cdn.shopify.com/s/files/1/0020/1025/1324/products/32p_black_1024x.png?v=1534865418\n",
            "[%] File Downloaded !\n",
            "\n",
            "[%] Downloading Image #19 from http://atlas-content-cdn.pixelsquid.com/stock-images/football-ball-QJGKVx9-600.jpg\n",
            "[%] File Downloaded !\n",
            "\n",
            "[%] Downloading Image #20 from https://cdn.shopify.com/s/files/1/0226/2169/products/KeyFob_2048x2048_V1_1024x1024.jpg?v=1555344296\n",
            "[%] File Downloaded !\n",
            "\n",
            "[%] Downloading Image #21 from https://image.jimcdn.com/app/cms/image/transf/dimension=1920x400:format=jpg/path/sd71f678b387a3bb2/image/i26be077a28158b64/version/1469027912/image.jpg\n",
            "[%] File Downloaded !\n",
            "\n",
            "[%] Downloading Image #22 from https://www.rugbyfactoryshop.co.uk/media/catalog/product/cache/13/image/9df78eab33525d08d6e5fb8d27136e95/g/i/gilbert-sidestep-revolution-black-red-rugby-boot_23.jpg\n",
            "[%] File Downloaded !\n",
            "\n",
            "[%] Downloading Image #23 from https://www.colourbox.com/preview/2507286-a-soccer-ball-and-tennis-balls-on-artificial-grass.jpg\n",
            "[%] File Downloaded !\n",
            "\n",
            "[%] Downloading Image #24 from https://cdn.sportrebel.pl/photos/wilson1_0x850.jpg\n",
            "[%] File Downloaded !\n",
            "\n",
            "\n",
            "\n",
            "[!!]Indexing page: 3\n",
            "\n",
            "[%] Indexed 12 Images on Page 3.\n",
            "\n",
            "===============================================\n",
            "\n",
            "[%] Downloading Image #25 from https://d2gg9evh47fn9z.cloudfront.net/800px_COLOURBOX19116091.jpg\n",
            "[%] File Downloaded !\n",
            "\n",
            "[%] Downloading Image #26 from https://static.vecteezy.com/system/resources/previews/000/076/275/original/vector-rugby-ball.jpg\n",
            "[%] File Downloaded !\n",
            "\n",
            "[%] Downloading Image #27 from https://img.bidorbuy.co.za/image/upload/user_images/720/318720_110206113942_IMG_6190.jpg\n",
            "[%] File Downloaded !\n",
            "\n",
            "[%] Downloading Image #28 from http://cdn.shopify.com/s/files/1/0068/0227/6407/products/2600_20RDAD19_2045082405_20Ball_20Replica_20Wales_20Sz5_1024x1024.jpg?v=1553529763\n",
            "[!] Issue getting: http://cdn.shopify.com/s/files/1/0068/0227/6407/products/2600_20RDAD19_2045082405_20Ball_20Replica_20Wales_20Sz5_1024x1024.jpg?v=1553529763\n",
            "[!] Error:: HTTP Error 404: Not Found\n",
            "[%] Downloading Image #28 from https://cdn.shopify.com/s/files/1/0020/1025/1324/products/Vintage_Wigan_Rugby_League_polo_1959_player_1024x.jpg?v=1553545537\n",
            "[%] File Downloaded !\n",
            "\n",
            "[%] Downloading Image #29 from https://cdn.shopify.com/s/files/1/0020/1025/1324/products/32p_black_1024x.png?v=1534865418\n",
            "[%] File Downloaded !\n",
            "\n",
            "[%] Downloading Image #30 from http://atlas-content-cdn.pixelsquid.com/stock-images/football-ball-QJGKVx9-600.jpg\n",
            "[%] File Downloaded !\n",
            "\n",
            "\n",
            "\n",
            "[%] Done. Downloaded 30 images.\n",
            "\n",
            "===============================================\n",
            "\n"
          ],
          "name": "stdout"
        }
      ]
    },
    {
      "cell_type": "code",
      "metadata": {
        "colab": {
          "base_uri": "https://localhost:8080/"
        },
        "id": "vUXf5xuoPluI",
        "outputId": "ce613204-a8fd-47a6-cffa-baf5ea9a4175"
      },
      "source": [
        "from bing_image_downloader import downloader\n",
        "downloader.download(\"ice cream cones\", limit=30, output_dir='images1', adult_filter_off=True)"
      ],
      "execution_count": 28,
      "outputs": [
        {
          "output_type": "stream",
          "text": [
            "\n",
            "\n",
            "[!!]Indexing page: 1\n",
            "\n",
            "[%] Indexed 8 Images on Page 1.\n",
            "\n",
            "===============================================\n",
            "\n",
            "[%] Downloading Image #1 from https://i.pinimg.com/736x/8b/e5/69/8be569e442e761e63e8fc3c0d7c154d0--waffle-cone-smores-smores-cones.jpg\n",
            "[%] File Downloaded !\n",
            "\n",
            "[%] Downloading Image #2 from https://www.seriouseats.com/images/2014/06/20140613-Chocolate-Dip-kingcone-vicky-wasik-14.jpg\n",
            "[%] File Downloaded !\n",
            "\n",
            "[%] Downloading Image #3 from https://aspottedpony.com/wp-content/uploads/2013/02/castlecake4.jpg\n",
            "[%] File Downloaded !\n",
            "\n",
            "[%] Downloading Image #4 from http://www.guinnessworldrecords.com/Images/Most-ice-cream-scoops-balanced-on-a-cone-header_tcm25-387618.jpg\n",
            "[%] File Downloaded !\n",
            "\n",
            "[%] Downloading Image #5 from https://www.narcity.com/u/2017/10/31/32ed0fc21991a5f1ea52bda6327681ea50a2cc8c.jpg_1200x630.jpg\n",
            "[%] File Downloaded !\n",
            "\n",
            "[%] Downloading Image #6 from https://www.fodors.com/wp-content/uploads/2019/01/01_Unicorn_Food_LittleDamage_UnicornTears_01.jpg\n",
            "[%] File Downloaded !\n",
            "\n",
            "[%] Downloading Image #7 from https://cdn.foodbeast.com/content/uploads/2014/09/cotton-candy-ice-cream.jpg\n",
            "[%] File Downloaded !\n",
            "\n",
            "[%] Downloading Image #8 from https://i.pinimg.com/736x/15/ae/de/15aede19f0604860d90e5331dd244bda--kid-party-favors-goody-bags.jpg\n",
            "[%] File Downloaded !\n",
            "\n",
            "\n",
            "\n",
            "[!!]Indexing page: 2\n",
            "\n",
            "[%] Indexed 13 Images on Page 2.\n",
            "\n",
            "===============================================\n",
            "\n",
            "[%] Downloading Image #9 from https://stylishspoon.com/wp-content/uploads/2015/06/sprinkle-ice-cream-cones.jpg\n",
            "[%] File Downloaded !\n",
            "\n",
            "[%] Downloading Image #10 from https://eventsbyloveinc.files.wordpress.com/2012/08/sesame-street-7.jpg?w=481&amp;h=640\n",
            "[%] File Downloaded !\n",
            "\n",
            "[%] Downloading Image #11 from https://img3.mashed.com/img/gallery/the-real-reason-mcdonalds-ice-cream-machines-always-seem-to-be-broken/intro-1539185823.jpg\n",
            "[%] File Downloaded !\n",
            "\n",
            "[%] Downloading Image #12 from https://food.fnr.sndimg.com/content/dam/images/food/fullset/2015/5/14/1/FN_New-York-City-Ice-Cream-Guide-Fortunato-Brothers-ice-cream-dish_s4x3.jpg.rend.hgtvcom.966.725.suffix/1431625383732.jpeg\n",
            "[%] File Downloaded !\n",
            "\n",
            "[%] Downloading Image #13 from http://cdn.onlyinyourstate.com/wp-content/uploads/2017/02/11659385_833365133406062_1955758194311293109_n-700x933.jpg\n",
            "[%] File Downloaded !\n",
            "\n",
            "[%] Downloading Image #14 from http://2.bp.blogspot.com/-rXz2ZufmwSA/TevwOdZpQlI/AAAAAAAAA6w/9H1BDGk16FI/s1600/chocolate2scoopicecreamcone.jpg\n",
            "[%] File Downloaded !\n",
            "\n",
            "[%] Downloading Image #15 from http://cdn.onlyinyourstate.com/wp-content/uploads/2016/12/7b-6-700x522.jpg\n",
            "[%] File Downloaded !\n",
            "\n",
            "[%] Downloading Image #16 from https://www.weddingelation.com/wp-content/uploads/2016/04/forest-cake-e1461227152217.jpg\n",
            "[%] File Downloaded !\n",
            "\n",
            "[%] Downloading Image #17 from https://cdn.vox-cdn.com/thumbor/xGFOeMdtuT5erJSI82hk0LIvdfU=/0x149:1000x673/fit-in/1200x630/cdn.vox-cdn.com/uploads/chorus_asset/file/16161114/Taiyaki.jpg\n",
            "[%] File Downloaded !\n",
            "\n",
            "[%] Downloading Image #18 from http://jstylemagazine.com/wp-content/uploads/2018/06/IMG_7301_EDIT.jpg\n",
            "[%] File Downloaded !\n",
            "\n",
            "[%] Downloading Image #19 from https://www.awesomeinventions.com/wp-content/uploads/2015/03/underwater-ballet-girl-tutu.jpg\n",
            "[%] File Downloaded !\n",
            "\n",
            "[%] Downloading Image #20 from https://i.ytimg.com/vi/RWeQRKjVE5U/maxresdefault.jpg\n",
            "[%] File Downloaded !\n",
            "\n",
            "[%] Downloading Image #21 from https://www.awesomeinventions.com/wp-content/uploads/2015/01/nightmare-clock.jpg\n",
            "[%] File Downloaded !\n",
            "\n",
            "\n",
            "\n",
            "[!!]Indexing page: 3\n",
            "\n",
            "[%] Indexed 12 Images on Page 3.\n",
            "\n",
            "===============================================\n",
            "\n",
            "[%] Downloading Image #22 from https://img3.mashed.com/img/gallery/the-real-reason-mcdonalds-ice-cream-machines-always-seem-to-be-broken/intro-1539185823.jpg\n",
            "[%] File Downloaded !\n",
            "\n",
            "[%] Downloading Image #23 from http://2.bp.blogspot.com/-rXz2ZufmwSA/TevwOdZpQlI/AAAAAAAAA6w/9H1BDGk16FI/s1600/chocolate2scoopicecreamcone.jpg\n",
            "[%] File Downloaded !\n",
            "\n",
            "[%] Downloading Image #24 from https://eventsbyloveinc.files.wordpress.com/2012/08/sesame-street-7.jpg?w=481&amp;h=640\n",
            "[%] File Downloaded !\n",
            "\n",
            "[%] Downloading Image #25 from https://cdn.vox-cdn.com/thumbor/xGFOeMdtuT5erJSI82hk0LIvdfU=/0x149:1000x673/fit-in/1200x630/cdn.vox-cdn.com/uploads/chorus_asset/file/16161114/Taiyaki.jpg\n",
            "[%] File Downloaded !\n",
            "\n",
            "[%] Downloading Image #26 from https://food.fnr.sndimg.com/content/dam/images/food/fullset/2015/5/14/1/FN_New-York-City-Ice-Cream-Guide-Fortunato-Brothers-ice-cream-dish_s4x3.jpg.rend.hgtvcom.966.725.suffix/1431625383732.jpeg\n",
            "[%] File Downloaded !\n",
            "\n",
            "[%] Downloading Image #27 from http://cdn.onlyinyourstate.com/wp-content/uploads/2017/02/11659385_833365133406062_1955758194311293109_n-700x933.jpg\n",
            "[%] File Downloaded !\n",
            "\n",
            "[%] Downloading Image #28 from https://i.ytimg.com/vi/RWeQRKjVE5U/maxresdefault.jpg\n",
            "[%] File Downloaded !\n",
            "\n",
            "[%] Downloading Image #29 from http://cdn.onlyinyourstate.com/wp-content/uploads/2016/12/7b-6-700x522.jpg\n",
            "[%] File Downloaded !\n",
            "\n",
            "[%] Downloading Image #30 from https://www.awesomeinventions.com/wp-content/uploads/2015/03/underwater-ballet-girl-tutu.jpg\n",
            "[%] File Downloaded !\n",
            "\n",
            "\n",
            "\n",
            "[%] Done. Downloaded 30 images.\n",
            "\n",
            "===============================================\n",
            "\n"
          ],
          "name": "stdout"
        }
      ]
    },
    {
      "cell_type": "code",
      "metadata": {
        "id": "d494cN9wPx9P"
      },
      "source": [
        "# We have collected images.... Now we will start with our preprocessing part"
      ],
      "execution_count": 22,
      "outputs": []
    },
    {
      "cell_type": "code",
      "metadata": {
        "id": "gbUbb2CFQM_f"
      },
      "source": [
        "import os\n",
        "import matplotlib.pyplot as plt\n",
        "import numpy as np\n",
        "from skimage.io import imread\n",
        "from skimage.transform import resize\n",
        "\n",
        "target=[]\n",
        "images=[]\n",
        "flat_data=[]\n",
        "\n",
        "DATADIR = '/content/images1'\n",
        "CATEGORIES = ['sunflowers','leather rugby balls','ice cream cones']\n",
        "\n",
        "for category in CATEGORIES:\n",
        "  class_num = CATEGORIES.index(category)\n",
        "  path = os.path.join(DATADIR,category)\n",
        "  for img in os.listdir(path):\n",
        "    img_array = imread(os.path.join(path,img))\n",
        "    img_resized = resize(img_array, (150,150,3))\n",
        "    flat_data.append(img_resized.flatten())\n",
        "    images.append(img_resized)\n",
        "    target.append(class_num)\n",
        "\n",
        "flat_data= np.array(flat_data)\n",
        "target= np.array(target)\n",
        "images=np.array(images)\n",
        "\n"
      ],
      "execution_count": 29,
      "outputs": []
    },
    {
      "cell_type": "code",
      "metadata": {
        "colab": {
          "base_uri": "https://localhost:8080/",
          "height": 282
        },
        "id": "5ilXVtRAzGks",
        "outputId": "ddacbb1a-ae12-4839-cb95-883a53594247"
      },
      "source": [
        "unique, count= np.unique(target,return_counts=True)\n",
        "plt.bar(CATEGORIES,count)"
      ],
      "execution_count": 30,
      "outputs": [
        {
          "output_type": "execute_result",
          "data": {
            "text/plain": [
              "<BarContainer object of 3 artists>"
            ]
          },
          "metadata": {
            "tags": []
          },
          "execution_count": 30
        },
        {
          "output_type": "display_data",
          "data": {
            "image/png": "[encoded data removed]",
            "text/plain": [
              "<Figure size 432x288 with 1 Axes>"
            ]
          },
          "metadata": {
            "tags": [],
            "needs_background": "light"
          }
        }
      ]
    },
    {
      "cell_type": "code",
      "metadata": {
        "id": "YsJnjCj2LPN5"
      },
      "source": [
        "from sklearn.model_selection import train_test_split\n",
        "x_train,x_test,y_train,y_test = train_test_split(flat_data,target,test_size=0.3,random_state=109)"
      ],
      "execution_count": 31,
      "outputs": []
    },
    {
      "cell_type": "code",
      "metadata": {
        "colab": {
          "base_uri": "https://localhost:8080/"
        },
        "id": "fYy7LlODL29a",
        "outputId": "604dfa2c-a35f-4203-a5e4-7619518599a3"
      },
      "source": [
        "from sklearn.model_selection import GridSearchCV\n",
        "from sklearn import svm\n",
        "param_grid=[\n",
        "            {'C':[1,10,100,1000],'kernel':['linear']},\n",
        "            {'C':[1,10,100,1000],'gamma':[0.001,0.0001],'kernel':['rbf']},\n",
        "]\n",
        "\n",
        "svc = svm.SVC(probability=True)\n",
        "clf = GridSearchCV(svc,param_grid)\n",
        "clf.fit(x_train,y_train)"
      ],
      "execution_count": 32,
      "outputs": [
        {
          "output_type": "execute_result",
          "data": {
            "text/plain": [
              "GridSearchCV(cv=None, error_score=nan,\n",
              "             estimator=SVC(C=1.0, break_ties=False, cache_size=200,\n",
              "                           class_weight=None, coef0=0.0,\n",
              "                           decision_function_shape='ovr', degree=3,\n",
              "                           gamma='scale', kernel='rbf', max_iter=-1,\n",
              "                           probability=True, random_state=None, shrinking=True,\n",
              "                           tol=0.001, verbose=False),\n",
              "             iid='deprecated', n_jobs=None,\n",
              "             param_grid=[{'C': [1, 10, 100, 1000], 'kernel': ['linear']},\n",
              "                         {'C': [1, 10, 100, 1000], 'gamma': [0.001, 0.0001],\n",
              "                          'kernel': ['rbf']}],\n",
              "             pre_dispatch='2*n_jobs', refit=True, return_train_score=False,\n",
              "             scoring=None, verbose=0)"
            ]
          },
          "metadata": {
            "tags": []
          },
          "execution_count": 32
        }
      ]
    },
    {
      "cell_type": "code",
      "metadata": {
        "colab": {
          "base_uri": "https://localhost:8080/"
        },
        "id": "OeYagOF7NDOZ",
        "outputId": "33d0221d-cb1c-4b6f-99c7-00898a7b8e80"
      },
      "source": [
        "y_pred=clf.predict(x_test)\n",
        "y_pred"
      ],
      "execution_count": 33,
      "outputs": [
        {
          "output_type": "execute_result",
          "data": {
            "text/plain": [
              "array([1, 0, 1, 2, 2, 1, 0, 1, 1, 0, 1, 0, 1, 2, 2, 1, 0, 1, 0, 1, 2, 1,\n",
              "       2, 0, 0, 0, 1])"
            ]
          },
          "metadata": {
            "tags": []
          },
          "execution_count": 33
        }
      ]
    },
    {
      "cell_type": "code",
      "metadata": {
        "colab": {
          "base_uri": "https://localhost:8080/"
        },
        "id": "8ErP5KxIX4kg",
        "outputId": "c599d4ff-2f48-4df2-f5cc-b977edc1500e"
      },
      "source": [
        "y_test"
      ],
      "execution_count": 34,
      "outputs": [
        {
          "output_type": "execute_result",
          "data": {
            "text/plain": [
              "array([1, 0, 1, 2, 2, 1, 0, 1, 1, 0, 1, 0, 1, 2, 2, 1, 2, 1, 0, 1, 2, 2,\n",
              "       2, 0, 0, 0, 1])"
            ]
          },
          "metadata": {
            "tags": []
          },
          "execution_count": 34
        }
      ]
    },
    {
      "cell_type": "code",
      "metadata": {
        "id": "8WvZFXSRYgVh"
      },
      "source": [
        "from sklearn.metrics import accuracy_score,confusion_matrix"
      ],
      "execution_count": 35,
      "outputs": []
    },
    {
      "cell_type": "code",
      "metadata": {
        "colab": {
          "base_uri": "https://localhost:8080/"
        },
        "id": "mrzTAhVIYs9l",
        "outputId": "b84bd759-8df3-4bbb-b6a9-d7a82f093648"
      },
      "source": [
        "accuracy_score(y_pred,y_test)"
      ],
      "execution_count": 34,
      "outputs": [
        {
          "output_type": "execute_result",
          "data": {
            "text/plain": [
              "1.0"
            ]
          },
          "metadata": {
            "tags": []
          },
          "execution_count": 34
        },
        {
          "output_type": "stream",
          "text": [
            "time: 3.28 ms\n"
          ],
          "name": "stdout"
        }
      ]
    },
    {
      "cell_type": "code",
      "metadata": {
        "colab": {
          "base_uri": "https://localhost:8080/"
        },
        "id": "HElg96J-Yx7t",
        "outputId": "9bcb294a-c9ed-47e0-dffa-c07f9bd25bdc"
      },
      "source": [
        "confusion_matrix(y_pred,y_test)"
      ],
      "execution_count": 35,
      "outputs": [
        {
          "output_type": "execute_result",
          "data": {
            "text/plain": [
              "array([[ 8,  0,  0],\n",
              "       [ 0, 11,  0],\n",
              "       [ 0,  0,  8]])"
            ]
          },
          "metadata": {
            "tags": []
          },
          "execution_count": 35
        },
        {
          "output_type": "stream",
          "text": [
            "time: 4 ms\n"
          ],
          "name": "stdout"
        }
      ]
    },
    {
      "cell_type": "code",
      "metadata": {
        "id": "z3Cv6W5UY4tF"
      },
      "source": [
        "import pickle\n",
        "pickle.dump(clf,open('img_model.p','wb'))"
      ],
      "execution_count": 36,
      "outputs": []
    },
    {
      "cell_type": "code",
      "metadata": {
        "id": "jVoOfUeWE4bt"
      },
      "source": [
        "model = pickle.load(open('img_model.p','rb'))"
      ],
      "execution_count": 38,
      "outputs": []
    },
    {
      "cell_type": "code",
      "metadata": {
        "colab": {
          "base_uri": "https://localhost:8080/",
          "height": 319
        },
        "id": "e33sjDwey3lk",
        "outputId": "cf25eb34-8f77-483d-cedc-4a89be0b076e"
      },
      "source": [
        "flat_data=[]\n",
        "url=input('Enter the url of image')\n",
        "img=imread(url)\n",
        "img_resized=resize(img,(150,150,3))\n",
        "flat_data.append(img_resized.flatten())\n",
        "flat_data = np.array(flat_data)\n",
        "print(img.shape)\n",
        "plt.imshow(img_resized)\n",
        "y_out=model.predict(flat_data)\n",
        "y_out = CATEGORIES[y_out[0]]\n",
        "print('Predicted Output: {}'.format(y_out))\n"
      ],
      "execution_count": 41,
      "outputs": [
        {
          "output_type": "stream",
          "text": [
            "Enter the url of imagehttps://i.etsystatic.com/5219063/r/il/4cdd58/1095201169/il_570xN.1095201169_p2oa.jpg\n",
            "(428, 570, 3)\n",
            "Predicted Output: leather rugby balls\n"
          ],
          "name": "stdout"
        },
        {
          "output_type": "display_data",
          "data": {
            "image/png": "[encoded data removed]",
            "text/plain": [
              "<Figure size 432x288 with 1 Axes>"
            ]
          },
          "metadata": {
            "tags": [],
            "needs_background": "light"
          }
        }
      ]
    },
    {
      "cell_type": "markdown",
      "metadata": {
        "id": "04BsIry34Cgt"
      },
      "source": [
        "Finally we have predicted our image accurately.\n",
        "This is the end of our project."
      ]
    },
    {
      "cell_type": "code",
      "metadata": {
        "id": "bt0Bg2bq4L9p"
      },
      "source": [
        ""
      ],
      "execution_count": null,
      "outputs": []
    }
  ]
}